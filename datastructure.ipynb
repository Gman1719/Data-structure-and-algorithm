{
 "cells": [
  {
   "cell_type": "markdown",
   "id": "a265f695",
   "metadata": {},
   "source": [
    "#### **Name** Getiye Demis <br>\n",
    "#### **ID** DBU1601213 <br>\n",
    "#### **Department** computer science \n",
    "#### **github** https://github.com/Gman1719"
   ]
  },
  {
   "cell_type": "markdown",
   "id": "3c99368d",
   "metadata": {},
   "source": [
    "### Bubble sort algorithm to sort the data element by using ID \n",
    "##### It works by repeatedly comparing adjacent elements in a list and swapping them if they are in the wrong order. This process continues in passes through the list until no more swaps are needed, indicating that the list is sorted. With each pass, the largest unsorted element \"bubbles up\" to its correct position at the end of the list."
   ]
  },
  {
   "cell_type": "code",
   "execution_count": 5,
   "id": "3b9dac5a",
   "metadata": {},
   "outputs": [
    {
     "name": "stdout",
     "output_type": "stream",
     "text": [
      "\n",
      "Sorted by ID (Bubble Sort):\n",
      "ID           Name       Dept CGPA \n",
      "DBU1500000   Dawit      DS   3.34 \n",
      "DBU1500001   Abrham     CS   3.12 \n",
      "DBU1500002   Soliana    DS   2.74 \n",
      "DBU1500003   Rahel      CS   3.1  \n",
      "DBU1500004   Mekdes     IT   3.58 \n",
      "DBU1500005   Yonas      DS   3.02 \n",
      "DBU1500006   Selam      CS   3.76 \n",
      "DBU1500007   Bereket    IT   2.91 \n",
      "DBU1500008   Lidia      DS   3.25 \n",
      "DBU1500009   Nahom      CS   2.87 \n"
     ]
    }
   ],
   "source": [
    "# Initialize the list of students\n",
    "Students = [\n",
    "    {'id': 'DBU1500000', 'name': 'Dawit', 'dept': 'DS', 'cgpa': 3.34},\n",
    "    {'id': 'DBU1500001', 'name': 'Abrham', 'dept': 'CS', 'cgpa': 3.12},\n",
    "    {'id': 'DBU1500002', 'name': 'Soliana', 'dept': 'DS', 'cgpa': 2.74},\n",
    "    {'id': 'DBU1500003', 'name': 'Rahel', 'dept': 'CS', 'cgpa': 3.10},\n",
    "    {'id': 'DBU1500004', 'name': 'Mekdes', 'dept': 'IT', 'cgpa': 3.58},\n",
    "    {'id': 'DBU1500005', 'name': 'Yonas', 'dept': 'DS', 'cgpa': 3.02},\n",
    "    {'id': 'DBU1500006', 'name': 'Selam', 'dept': 'CS', 'cgpa': 3.76},\n",
    "    {'id': 'DBU1500007', 'name': 'Bereket', 'dept': 'IT', 'cgpa': 2.91},\n",
    "    {'id': 'DBU1500008', 'name': 'Lidia', 'dept': 'DS', 'cgpa': 3.25},\n",
    "    {'id': 'DBU1500009', 'name': 'Nahom', 'dept': 'CS', 'cgpa': 2.87}\n",
    "]\n",
    "\n",
    "# Bubble sort algorithm to sort the list of students by ID\n",
    "def bubble_sort_by_id(students):\n",
    "    n = len(students)\n",
    "    for i in range(n):\n",
    "        for j in range(0, n - i - 1):\n",
    "            if students[j]['id'] > students[j + 1]['id']:\n",
    "                students[j], students[j + 1] = students[j + 1], students[j]\n",
    "\n",
    "# Example usage\n",
    "bubble_sort_by_id(Students)\n",
    "\n",
    "# Print the sorted list in table format without dictionary keys\n",
    "print(\"\\nSorted by ID (Bubble Sort):\")\n",
    "print(f\"{'ID':<12} {'Name':<10} {'Dept':<4} {'CGPA':<5}\")\n",
    "for student in Students:\n",
    "    print(f\"{student['id']:<12} {student['name']:<10} {student['dept']:<4} {student['cgpa']:<5}\")\n"
   ]
  },
  {
   "cell_type": "markdown",
   "id": "db73bc8d",
   "metadata": {},
   "source": [
    "### insertion sort by name"
   ]
  },
  {
   "cell_type": "markdown",
   "id": "99271c7f",
   "metadata": {},
   "source": [
    "##### It works by building a sorted portion of the list one element at a time, starting with the second element. The algorithm iterates through the unsorted portion of the list, compares each element with the elements in the sorted portion, and inserts it into its correct position within the sorted section. This process continues until all elements are sorted."
   ]
  },
  {
   "cell_type": "code",
   "execution_count": 6,
   "id": "47aa123d",
   "metadata": {},
   "outputs": [
    {
     "name": "stdout",
     "output_type": "stream",
     "text": [
      "\n",
      "Sorted by Name (Insertion Sort):\n",
      "Name       ID           Dept CGPA \n",
      "Abrham     DBU1500001   CS   3.12 \n",
      "Bereket    DBU1500007   IT   2.91 \n",
      "Dawit      DBU1500000   DS   3.34 \n",
      "Lidia      DBU1500008   DS   3.25 \n",
      "Mekdes     DBU1500004   IT   3.58 \n",
      "Nahom      DBU1500009   CS   2.87 \n",
      "Rahel      DBU1500003   CS   3.1  \n",
      "Selam      DBU1500006   CS   3.76 \n",
      "Soliana    DBU1500002   DS   2.74 \n",
      "Yonas      DBU1500005   DS   3.02 \n"
     ]
    }
   ],
   "source": [
    "# Initialize the list of students\n",
    "Students = [\n",
    "    {'id': 'DBU1500000', 'name': 'Dawit', 'dept': 'DS', 'cgpa': 3.34},\n",
    "    {'id': 'DBU1500001', 'name': 'Abrham', 'dept': 'CS', 'cgpa': 3.12},\n",
    "    {'id': 'DBU1500002', 'name': 'Soliana', 'dept': 'DS', 'cgpa': 2.74},\n",
    "    {'id': 'DBU1500003', 'name': 'Rahel', 'dept': 'CS', 'cgpa': 3.10},\n",
    "    {'id': 'DBU1500004', 'name': 'Mekdes', 'dept': 'IT', 'cgpa': 3.58},\n",
    "    {'id': 'DBU1500005', 'name': 'Yonas', 'dept': 'DS', 'cgpa': 3.02},\n",
    "    {'id': 'DBU1500006', 'name': 'Selam', 'dept': 'CS', 'cgpa': 3.76},\n",
    "    {'id': 'DBU1500007', 'name': 'Bereket', 'dept': 'IT', 'cgpa': 2.91},\n",
    "    {'id': 'DBU1500008', 'name': 'Lidia', 'dept': 'DS', 'cgpa': 3.25},\n",
    "    {'id': 'DBU1500009', 'name': 'Nahom', 'dept': 'CS', 'cgpa': 2.87}\n",
    "]\n",
    "\n",
    "# Insertion sort algorithm to sort the list of students alphabetically by Name\n",
    "def insertion_sort_by_name(students):\n",
    "    for i in range(1, len(students)):\n",
    "        key = students[i]\n",
    "        j = i - 1\n",
    "        while j >= 0 and key['name'].lower() < students[j]['name'].lower():\n",
    "            students[j + 1] = students[j]\n",
    "            j -= 1\n",
    "        students[j + 1] = key\n",
    "\n",
    "# Example usage\n",
    "insertion_sort_by_name(Students)\n",
    "\n",
    "# Print the sorted list in table format with Name in first column\n",
    "print(\"\\nSorted by Name (Insertion Sort):\")\n",
    "print(f\"{'Name':<10} {'ID':<12} {'Dept':<4} {'CGPA':<5}\")\n",
    "for student in Students:\n",
    "    print(f\"{student['name']:<10} {student['id']:<12} {student['dept']:<4} {student['cgpa']:<5}\")\n"
   ]
  },
  {
   "cell_type": "markdown",
   "id": "50744acb",
   "metadata": {},
   "source": [
    "### selection sort by cgpa"
   ]
  },
  {
   "cell_type": "markdown",
   "id": "f2d1343c",
   "metadata": {},
   "source": [
    "##### It works by repeatedly finding the minimum element from the unsorted portion of the list and swapping it with the first unsorted element. The algorithm starts by assuming the first element is the smallest and compares it with the other elements to find the smallest value. Once the minimum is found, it is swapped with the first element, effectively extending the sorted portion of the list. The process is repeated for each subsequent element, gradually growing the sorted section while reducing the unsorted portion."
   ]
  },
  {
   "cell_type": "code",
   "execution_count": 7,
   "id": "4d06a0da",
   "metadata": {},
   "outputs": [
    {
     "name": "stdout",
     "output_type": "stream",
     "text": [
      "\n",
      "Sorted by CGPA Descending (Selection Sort):\n",
      "Name       ID           Dept CGPA \n",
      "Selam      DBU1500006   CS   3.76 \n",
      "Mekdes     DBU1500004   IT   3.58 \n",
      "Getiye     DBU1500008   CS   3.5  \n",
      "Dawit      DBU1500000   DS   3.34 \n",
      "Abreham    DBU1500001   CS   3.12 \n",
      "Rahel      DBU1500003   CS   3.1  \n",
      "Yonas      DBU1500005   DS   3.02 \n",
      "Bereket    DBU1500007   IT   2.91 \n",
      "Nahom      DBU1500009   CS   2.87 \n",
      "Sol        DBU1500002   DS   2.74 \n"
     ]
    }
   ],
   "source": [
    "# Initialize the list of students\n",
    "Students = [\n",
    "    {'id': 'DBU1500000', 'name': 'Dawit', 'dept': 'DS', 'cgpa': 3.34},\n",
    "    {'id': 'DBU1500001', 'name': 'Abreham', 'dept': 'CS', 'cgpa': 3.12},\n",
    "    {'id': 'DBU1500002', 'name': 'Sol', 'dept': 'DS', 'cgpa': 2.74},\n",
    "    {'id': 'DBU1500003', 'name': 'Rahel', 'dept': 'CS', 'cgpa': 3.10},\n",
    "    {'id': 'DBU1500004', 'name': 'Mekdes', 'dept': 'IT', 'cgpa': 3.58},\n",
    "    {'id': 'DBU1500005', 'name': 'Yonas', 'dept': 'DS', 'cgpa': 3.02},\n",
    "    {'id': 'DBU1500006', 'name': 'Selam', 'dept': 'CS', 'cgpa': 3.76},\n",
    "    {'id': 'DBU1500007', 'name': 'Bereket', 'dept': 'IT', 'cgpa': 2.91},\n",
    "    {'id': 'DBU1500008', 'name': 'Getiye', 'dept': 'CS', 'cgpa': 3.5},\n",
    "    {'id': 'DBU1500009', 'name': 'Nahom', 'dept': 'CS', 'cgpa': 2.87}\n",
    "]\n",
    "\n",
    "# Selection sort algorithm to sort the list of students by CGPA in Descending order\n",
    "def  selection_sort(students):\n",
    "    n = len(students)\n",
    "    for i in range(n):\n",
    "        max_idx = i\n",
    "        for j in range(i + 1, n):\n",
    "            if students[j]['cgpa'] > students[max_idx]['cgpa']:\n",
    "                max_idx = j\n",
    "        students[i], students[max_idx] = students[max_idx], students[i]\n",
    "\n",
    "# Example usage\n",
    "selection_sort(Students)\n",
    "\n",
    "# Print the sorted list in table format with Name first and then CGPA\n",
    "print(\"\\nSorted by CGPA Descending (Selection Sort):\")\n",
    "print(f\"{'Name':<10} {'ID':<12} {'Dept':<4} {'CGPA':<5}\")\n",
    "for student in Students:\n",
    "    print(f\"{student['name']:<10} {student['id']:<12} {student['dept']:<4} {student['cgpa']:<5}\")\n"
   ]
  },
  {
   "cell_type": "markdown",
   "id": "39a6e36a",
   "metadata": {},
   "source": [
    "## performance comparation"
   ]
  },
  {
   "cell_type": "markdown",
   "id": "9b11cba1",
   "metadata": {},
   "source": [
    "##### All three algorithms have constant space complexity, as they do not require any additional memory for sorting, apart from the input list itself."
   ]
  },
  {
   "cell_type": "markdown",
   "id": "beeff6a0",
   "metadata": {},
   "source": []
  },
  {
   "cell_type": "markdown",
   "id": "fdbeba1e",
   "metadata": {},
   "source": [
    "#### **bublle sort** is a sorting algorithm with a worst-case and average-case time complexity of O(n²) ,, where n is the number of elements.\n",
    "- In the best-case scenario—when the data is already sorted—an optimized version of Bubble Sort can achieve O(n) time by detecting that no swaps are needed.\n",
    "-  it is generally inefficient for larger datasets due to the high number of comparisons and swaps in each pass."
   ]
  },
  {
   "cell_type": "markdown",
   "id": "16641b3f",
   "metadata": {},
   "source": [
    "#### **Insertion sort** \n",
    "- has a worst-case and average-case time complexity of O(n²),\n",
    "- Its best-case performance is O(n) when the input is already sorted"
   ]
  },
  {
   "cell_type": "markdown",
   "id": "93268579",
   "metadata": {},
   "source": [
    "#### **Selection sort** \n",
    "- has a time complexity of O(n²) for all cases—best, average, and worst—because it always performs the same number of comparisons, regardless of the data's initial order. \n",
    "- It is less suitable for practical use with dictionaries or large datasets.\n"
   ]
  },
  {
   "cell_type": "markdown",
   "id": "ff15cab7",
   "metadata": {},
   "source": [
    "### Bubble sort \n",
    "#### _Advantage:_\n",
    "- Very simple to understand and implement.\n",
    "- Can detect if the list is already sorted (when optimized with a flag), giving it a best-case time of O(n).\n",
    "- Works in-place, requiring no extra memory beyond the input list.\n",
    "#### _Dis advantage:_\n",
    "- Inefficient for large or even moderately sized datasets due to O(n²) time complexity.\n",
    "- Performs many unnecessary comparisons and swaps.\n",
    "- Not stable by default unless implemented carefully.\n",
    "- Not suitable for real-world dictionary sorting tasks where performance and stability matter.\n"
   ]
  },
  {
   "cell_type": "markdown",
   "id": "b33c473e",
   "metadata": {},
   "source": [
    "#### **Insertion sort**\n",
    "#### _Advantages:_\n",
    "- Efficient for small datasets or data that is already mostly sorted.\n",
    "- Has a best-case performance of O(n), making it adaptive.\n",
    "- It is a stable sort — it preserves the relative order of equal elements.\n",
    "- Simple and intuitive, easy to implement.\n",
    "Good choice for online sorting (handling one item at a time).\n",
    "#### _Disadvantages:_\n",
    "- Still has a worst-case and average-case time complexity of O(n²), making it inefficient for large datasets.\n",
    "\n",
    "- Not suitable for datasets that are randomly ordered and large in size.\n",
    "\n",
    "- For dictionary data, the conversion to key-value tuples is still required before sorting."
   ]
  },
  {
   "cell_type": "markdown",
   "id": "5a6bcc53",
   "metadata": {},
   "source": [
    "### **Selection sort**\n",
    "### _Advantages:_\n",
    "- Simple to implement and understand.\n",
    "- Performs the minimum number of swaps (at most n - 1), which is beneficial when write operations are costly (e.g., flash memory).\n",
    "- Works well with very small datasets or when memory writes need to be minimized.\n",
    "### _Disadvantage_\n",
    "- Time complexity is always O(n²), regardless of data order — not adaptive.\n",
    "- Not a stable sort, so it may not maintain the order of equal elements (a problem when sorting dictionary data with duplicate values).\n",
    "- Generally outperformed by Insertion Sort for small data and completely unsuitable for large lists."
   ]
  },
  {
   "cell_type": "markdown",
   "id": "3b94ec64",
   "metadata": {},
   "source": []
  }
 ],
 "metadata": {
  "kernelspec": {
   "display_name": "Python 3",
   "language": "python",
   "name": "python3"
  },
  "language_info": {
   "codemirror_mode": {
    "name": "ipython",
    "version": 3
   },
   "file_extension": ".py",
   "mimetype": "text/x-python",
   "name": "python",
   "nbconvert_exporter": "python",
   "pygments_lexer": "ipython3",
   "version": "3.13.2"
  }
 },
 "nbformat": 4,
 "nbformat_minor": 5
}
